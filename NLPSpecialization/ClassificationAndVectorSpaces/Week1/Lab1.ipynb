{
 "cells": [
  {
   "cell_type": "code",
   "execution_count": 11,
   "metadata": {},
   "outputs": [],
   "source": [
    "import nltk\n",
    "from nltk.corpus import twitter_samples\n",
    "from nltk.corpus import stopwords\n",
    "from nltk.stem import PorterStemmer\n",
    "from nltk.tokenize import TweetTokenizer\n",
    "import matplotlib.pyplot as plt\n",
    "import random\n",
    "import re\n",
    "import string"
   ]
  },
  {
   "cell_type": "code",
   "execution_count": 10,
   "metadata": {},
   "outputs": [
    {
     "name": "stderr",
     "output_type": "stream",
     "text": [
      "[nltk_data] Downloading package twitter_samples to\n",
      "[nltk_data]     /home/vc/nltk_data...\n",
      "[nltk_data]   Package twitter_samples is already up-to-date!\n",
      "[nltk_data] Downloading package stopwords to /home/vc/nltk_data...\n",
      "[nltk_data]   Unzipping corpora/stopwords.zip.\n"
     ]
    },
    {
     "data": {
      "text/plain": [
       "True"
      ]
     },
     "execution_count": 10,
     "metadata": {},
     "output_type": "execute_result"
    }
   ],
   "source": [
    "nltk.download('twitter_samples')\n",
    "nltk.download('stopwords')"
   ]
  },
  {
   "cell_type": "code",
   "execution_count": 5,
   "metadata": {},
   "outputs": [],
   "source": [
    "all_positive_tweets = twitter_samples.strings('positive_tweets.json')\n",
    "all_negative_tweets = twitter_samples.strings('negative_tweets.json')"
   ]
  },
  {
   "cell_type": "code",
   "execution_count": 7,
   "metadata": {},
   "outputs": [
    {
     "name": "stdout",
     "output_type": "stream",
     "text": [
      "The total positive tweets are:  5000\n",
      "The total negative tweets are:  5000\n",
      "The type of all positive tweets are:  <class 'list'>\n",
      "The type of each tweet are:  <class 'str'>\n"
     ]
    }
   ],
   "source": [
    "print(\"The total positive tweets are: \",len(all_positive_tweets))\n",
    "print(\"The total negative tweets are: \",len(all_negative_tweets))\n",
    "\n",
    "print(\"The type of all positive tweets are: \",type(all_positive_tweets))\n",
    "print(\"The type of each tweet are: \",type(all_negative_tweets[0]))"
   ]
  },
  {
   "cell_type": "code",
   "execution_count": 8,
   "metadata": {},
   "outputs": [
    {
     "data": {
      "image/png": "[encoded data removed]",
      "text/plain": [
       "<Figure size 360x360 with 1 Axes>"
      ]
     },
     "metadata": {},
     "output_type": "display_data"
    }
   ],
   "source": [
    "#Draw a pie-chart showing the data distribution\n",
    "fig = plt.figure(figsize=(5,5))\n",
    "labels = 'Positives','Negatives'\n",
    "size = [len(all_positive_tweets),len(all_negative_tweets)]\n",
    "plt.pie(size,labels=labels,autopct=\"%1.1f\",shadow=True,startangle=90)\n",
    "plt.axis(\"equal\")\n",
    "plt.show()"
   ]
  },
  {
   "cell_type": "code",
   "execution_count": 9,
   "metadata": {},
   "outputs": [
    {
     "name": "stdout",
     "output_type": "stream",
     "text": [
      "When the managers at your job tell you and your friend that you are the two prettiest girls there :) :) :) :) :) :) :)\n",
      "i am not that artistic so how the heck can i do my project :(\n"
     ]
    }
   ],
   "source": [
    "#Printing random tweets\n",
    "print(all_positive_tweets[random.randint(0,5000)])\n",
    "print(all_negative_tweets[random.randint(0,5000)])"
   ]
  },
  {
   "cell_type": "code",
   "execution_count": 19,
   "metadata": {},
   "outputs": [],
   "source": [
    "def preprocessTweets(tweet_list):\n",
    "    N = len(tweet_list)\n",
    "    for i in range(N):\n",
    "        tweet = tweet_list[i]\n",
    "        print('\\033[92m'+tweet)\n",
    "        print('\\033[94m')\n",
    "        \n",
    "        #Remove old style retweet text 'RT'\n",
    "        tweet2 = re.sub(r'^RT[\\s]+','',tweet)\n",
    "        #Remove hyperlinks\n",
    "        tweet2 = re.sub(r'https?:\\/\\/.*[\\r\\n]*', '', tweet2)\n",
    "        # remove hashtags\n",
    "        # only removing the hash # sign from the word\n",
    "        tweet2 = re.sub(r'#', '', tweet2)\n",
    "        \n",
    "        #print(tweet2)\n",
    "        #print('\\033[92m' + tweet2)\n",
    "        #print('\\033[94m')\n",
    "        tokenizer = TweetTokenizer(preserve_case=False,strip_handles=True,reduce_len=True)\n",
    "        tweet_tokens = tokenizer.tokenize(tweet2)\n",
    "        #print()\n",
    "        #print(\"Tokenized strings: \")\n",
    "        #print(tweet_tokens)\n",
    "        \n",
    "        #print()\n",
    "        #print('\\033[92m')\n",
    "        #print(tweet_tokens)\n",
    "        #print('\\033[94m')\n",
    "        stopwords_english = stopwords.words('english')\n",
    "        tweets_clean = []\n",
    "        for words in tweet_tokens:\n",
    "            if(words not in stopwords_english and words not in string.punctuation):\n",
    "                tweets_clean.append(words)\n",
    "        \n",
    "        #print('removed stop words and punctuation:')\n",
    "        #print(tweets_clean)\n",
    "        \n",
    "        #print()\n",
    "        #print('\\033[92m')\n",
    "        #print(tweets_clean)\n",
    "        #print('\\033[94m')\n",
    "        \n",
    "        stemmer = PorterStemmer()\n",
    "        tweets_stem = []\n",
    "        for word in tweets_clean:\n",
    "            tweets_stem.append(stemmer.stem(word))\n",
    "        \n",
    "        #print('stemmed words:')\n",
    "        #print(tweets_stem)\n",
    "        cleaned_sentence = ' '.join(tweets_stem)\n",
    "        print(cleaned_sentence)"
   ]
  },
  {
   "cell_type": "code",
   "execution_count": 20,
   "metadata": {},
   "outputs": [
    {
     "name": "stdout",
     "output_type": "stream",
     "text": [
      "\u001b[92mWhen the managers at your job tell you and your friend that you are the two prettiest girls there :) :) :) :) :) :) :)\n",
      "\u001b[94m\n",
      "manag job tell friend two prettiest girl :) :) :) :) :) :) :)\n",
      "\u001b[92mMy beautiful sunflowers on a sunny Friday morning off :) #sunflowers #favourites #happy #Friday off… https://t.co/3tfYom0N1i\n",
      "\u001b[94m\n",
      "beauti sunflow sunni friday morn :) sunflow favourit happi friday …\n"
     ]
    }
   ],
   "source": [
    "tweet_list = ['When the managers at your job tell you and your friend that you are the two prettiest girls there :) :) :) :) :) :) :)','My beautiful sunflowers on a sunny Friday morning off :) #sunflowers #favourites #happy #Friday off… https://t.co/3tfYom0N1i']\n",
    "preprocessTweets(tweet_list)"
   ]
  },
  {
   "cell_type": "code",
   "execution_count": null,
   "metadata": {},
   "outputs": [],
   "source": []
  }
 ],
 "metadata": {
  "kernelspec": {
   "display_name": "cera_nlp",
   "language": "python",
   "name": "cera_nlp"
  },
  "language_info": {
   "codemirror_mode": {
    "name": "ipython",
    "version": 3
   },
   "file_extension": ".py",
   "mimetype": "text/x-python",
   "name": "python",
   "nbconvert_exporter": "python",
   "pygments_lexer": "ipython3",
   "version": "3.7.3"
  }
 },
 "nbformat": 4,
 "nbformat_minor": 2
}
